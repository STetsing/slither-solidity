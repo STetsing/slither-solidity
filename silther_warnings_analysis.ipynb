{
 "cells": [
  {
   "cell_type": "code",
   "execution_count": 1,
   "metadata": {},
   "outputs": [],
   "source": [
    "import os\n",
    "import pandas as pd\n",
    "import numpy as np\n",
    "import matplotlib\n",
    "from matplotlib import pyplot as plt\n",
    "import json\n",
    "from slither_sol_helpers import *"
   ]
  },
  {
   "cell_type": "code",
   "execution_count": 2,
   "metadata": {},
   "outputs": [
    {
     "name": "stdout",
     "output_type": "stream",
     "text": [
      "Number of Solidity slither processed files:  245287\n",
      "Number of Solidity NOT slither processed files:  64939\n",
      "Number of Solidity slither processed files with at least 1 warning:  164167\n"
     ]
    }
   ],
   "source": [
    "# load dataset \n",
    "slither_dataset = pd.read_pickle('./slither_processed_contracts.pkl')\n",
    "slither_dataset.reset_index(drop=True, inplace=True)\n",
    "slither_processed = slither_dataset[slither_dataset['slither_processed'] == True]['slither']\n",
    "\n",
    "w_and_e = []\n",
    "we_sol = 0\n",
    "for res in slither_processed:\n",
    "    if res == None:\n",
    "        continue\n",
    "    else:\n",
    "        we_sol +=1\n",
    "        for e in res:\n",
    "            w_and_e.append(int(e))\n",
    "\n",
    "\n",
    "print('Number of Solidity slither processed files: ', len(slither_dataset[slither_dataset['slither_processed'] == True]))\n",
    "print('Number of Solidity NOT slither processed files: ', len(slither_dataset[slither_dataset['slither_processed'] == False]))\n",
    "print('Number of Solidity slither processed files with at least 1 warning: ', we_sol)"
   ]
  },
  {
   "cell_type": "code",
   "execution_count": 3,
   "metadata": {},
   "outputs": [
    {
     "name": "stdout",
     "output_type": "stream",
     "text": [
      "92\n"
     ]
    }
   ],
   "source": [
    "# Get total number of warnings and error\n",
    "with open('./detectors.json', 'r') as fh:\n",
    "    detectors = json.load(fh)\n",
    "\n",
    "print(len(detectors))"
   ]
  },
  {
   "cell_type": "code",
   "execution_count": null,
   "metadata": {},
   "outputs": [],
   "source": [
    "len(w_and_e)"
   ]
  },
  {
   "cell_type": "code",
   "execution_count": null,
   "metadata": {},
   "outputs": [],
   "source": [
    "x = plt.hist(w_and_e, bins=len(detectors)+1)\n",
    "plt.xlabel('W&E code')\n",
    "plt.ylabel('W&E counts')\n",
    "plt.show()"
   ]
  },
  {
   "cell_type": "code",
   "execution_count": null,
   "metadata": {},
   "outputs": [],
   "source": [
    "c, we, _ = x"
   ]
  },
  {
   "cell_type": "code",
   "execution_count": null,
   "metadata": {},
   "outputs": [],
   "source": [
    "c_norm = c/len(w_and_e)\n",
    "we = [int(np.ceil(w)) for w in we]\n",
    "we = np.delete(we, -1)\n",
    "print(len(c_norm), len(we))\n"
   ]
  },
  {
   "cell_type": "code",
   "execution_count": null,
   "metadata": {},
   "outputs": [],
   "source": [
    "def get_key(idx):\n",
    "    keys = [k for k, v in detectors.items() if v['idx'] == str(idx)]\n",
    "    return keys[0] if len(keys) else None\n",
    "\n",
    "get_key(87)"
   ]
  },
  {
   "cell_type": "code",
   "execution_count": null,
   "metadata": {},
   "outputs": [],
   "source": [
    "for k, v in detectors.items():\n",
    "    print(k, v)"
   ]
  },
  {
   "cell_type": "code",
   "execution_count": null,
   "metadata": {},
   "outputs": [],
   "source": [
    "plt.figure(figsize=(20,20))\n",
    "plt.pie(c_norm, labels=we, autopct='%1.1f%%')"
   ]
  },
  {
   "cell_type": "code",
   "execution_count": 9,
   "metadata": {},
   "outputs": [
    {
     "data": {
      "text/plain": [
       "['1',\n",
       " '2',\n",
       " '3',\n",
       " '4',\n",
       " '5',\n",
       " '6',\n",
       " '7',\n",
       " '8',\n",
       " '9',\n",
       " '10',\n",
       " '11',\n",
       " '12',\n",
       " '13',\n",
       " '14',\n",
       " '15',\n",
       " '16',\n",
       " '17',\n",
       " '18',\n",
       " '19',\n",
       " '20',\n",
       " '21',\n",
       " '22',\n",
       " '23',\n",
       " '24',\n",
       " '25',\n",
       " '26',\n",
       " '27',\n",
       " '28',\n",
       " '29']"
      ]
     },
     "execution_count": 9,
     "metadata": {},
     "output_type": "execute_result"
    }
   ],
   "source": [
    "get_error_or_warning_codes('High')"
   ]
  },
  {
   "cell_type": "code",
   "execution_count": 15,
   "metadata": {},
   "outputs": [
    {
     "name": "stderr",
     "output_type": "stream",
     "text": [
      "/tmp/ipykernel_34257/2974944251.py:18: SettingWithCopyWarning: \n",
      "A value is trying to be set on a copy of a slice from a DataFrame.\n",
      "Try using .loc[row_indexer,col_indexer] = value instead\n",
      "\n",
      "See the caveats in the documentation: https://pandas.pydata.org/pandas-docs/stable/user_guide/indexing.html#returning-a-view-versus-a-copy\n",
      "  slither_processed['keep'] = slither_processed.slither.apply(lambda x: keep(x, high_idx)) # remove high impact slither warnings\n"
     ]
    },
    {
     "data": {
      "text/html": [
       "<div>\n",
       "<style scoped>\n",
       "    .dataframe tbody tr th:only-of-type {\n",
       "        vertical-align: middle;\n",
       "    }\n",
       "\n",
       "    .dataframe tbody tr th {\n",
       "        vertical-align: top;\n",
       "    }\n",
       "\n",
       "    .dataframe thead th {\n",
       "        text-align: right;\n",
       "    }\n",
       "</style>\n",
       "<table border=\"1\" class=\"dataframe\">\n",
       "  <thead>\n",
       "    <tr style=\"text-align: right;\">\n",
       "      <th></th>\n",
       "      <th>source_dir</th>\n",
       "      <th>sol_file</th>\n",
       "      <th>slither_processed</th>\n",
       "      <th>contracts_dirs</th>\n",
       "      <th>has_src_files</th>\n",
       "      <th>slither</th>\n",
       "      <th>keep</th>\n",
       "    </tr>\n",
       "  </thead>\n",
       "  <tbody>\n",
       "    <tr>\n",
       "      <th>0</th>\n",
       "      <td>/home/pippertetsing/sourcify_contract_data/ful...</td>\n",
       "      <td>/home/pippertetsing/sourcify_contract_data/ful...</td>\n",
       "      <td>True</td>\n",
       "      <td>/home/pippertetsing/sourcify_contract_data/ful...</td>\n",
       "      <td>True</td>\n",
       "      <td>None</td>\n",
       "      <td>True</td>\n",
       "    </tr>\n",
       "    <tr>\n",
       "      <th>4</th>\n",
       "      <td>/home/pippertetsing/sourcify_contract_data/par...</td>\n",
       "      <td>/home/pippertetsing/sourcify_contract_data/par...</td>\n",
       "      <td>True</td>\n",
       "      <td>/home/pippertetsing/sourcify_contract_data/par...</td>\n",
       "      <td>True</td>\n",
       "      <td>[84, 84, 84, 84, 84, 84, 84, 80, 80, 80, 80, 8...</td>\n",
       "      <td>True</td>\n",
       "    </tr>\n",
       "    <tr>\n",
       "      <th>5</th>\n",
       "      <td>/home/pippertetsing/sourcify_contract_data/par...</td>\n",
       "      <td>/home/pippertetsing/sourcify_contract_data/par...</td>\n",
       "      <td>True</td>\n",
       "      <td>/home/pippertetsing/sourcify_contract_data/par...</td>\n",
       "      <td>True</td>\n",
       "      <td>[67, 67, 84, 84, 84, 84, 84, 84, 84, 84, 84, 8...</td>\n",
       "      <td>True</td>\n",
       "    </tr>\n",
       "  </tbody>\n",
       "</table>\n",
       "</div>"
      ],
      "text/plain": [
       "                                          source_dir  \\\n",
       "0  /home/pippertetsing/sourcify_contract_data/ful...   \n",
       "4  /home/pippertetsing/sourcify_contract_data/par...   \n",
       "5  /home/pippertetsing/sourcify_contract_data/par...   \n",
       "\n",
       "                                            sol_file  slither_processed  \\\n",
       "0  /home/pippertetsing/sourcify_contract_data/ful...               True   \n",
       "4  /home/pippertetsing/sourcify_contract_data/par...               True   \n",
       "5  /home/pippertetsing/sourcify_contract_data/par...               True   \n",
       "\n",
       "                                      contracts_dirs  has_src_files  \\\n",
       "0  /home/pippertetsing/sourcify_contract_data/ful...           True   \n",
       "4  /home/pippertetsing/sourcify_contract_data/par...           True   \n",
       "5  /home/pippertetsing/sourcify_contract_data/par...           True   \n",
       "\n",
       "                                             slither  keep  \n",
       "0                                               None  True  \n",
       "4  [84, 84, 84, 84, 84, 84, 84, 80, 80, 80, 80, 8...  True  \n",
       "5  [67, 67, 84, 84, 84, 84, 84, 84, 84, 84, 84, 8...  True  "
      ]
     },
     "execution_count": 15,
     "metadata": {},
     "output_type": "execute_result"
    }
   ],
   "source": [
    "# Test the filtering\n",
    "slither_dataset = pd.read_pickle('./slither_processed_contracts.pkl').sample(10)\n",
    "slither_dataset.reset_index(drop=True, inplace=True)\n",
    "slither_processed = slither_dataset[slither_dataset['slither_processed'] == True]\n",
    "\n",
    "# eliminate High risk files \n",
    "high_idx = get_error_or_warning_codes('High')\n",
    "med_idx = get_error_or_warning_codes('Medium')\n",
    "def keep(x, idx_red_list):\n",
    "    if x == None:\n",
    "        return True\n",
    "    else:\n",
    "        for x_idx in x:\n",
    "            if x_idx in idx_red_list:\n",
    "                return False\n",
    "    return True\n",
    "\n",
    "slither_processed['keep'] = slither_processed.slither.apply(lambda x: keep(x, high_idx)) # remove high impact slither warnings\n",
    "dataset = slither_processed[slither_processed['keep'] == True]\n",
    "dataset"
   ]
  },
  {
   "cell_type": "code",
   "execution_count": 17,
   "metadata": {},
   "outputs": [
    {
     "data": {
      "text/html": [
       "<div>\n",
       "<style scoped>\n",
       "    .dataframe tbody tr th:only-of-type {\n",
       "        vertical-align: middle;\n",
       "    }\n",
       "\n",
       "    .dataframe tbody tr th {\n",
       "        vertical-align: top;\n",
       "    }\n",
       "\n",
       "    .dataframe thead th {\n",
       "        text-align: right;\n",
       "    }\n",
       "</style>\n",
       "<table border=\"1\" class=\"dataframe\">\n",
       "  <thead>\n",
       "    <tr style=\"text-align: right;\">\n",
       "      <th></th>\n",
       "      <th>source_dir</th>\n",
       "      <th>sol_file</th>\n",
       "      <th>slither_processed</th>\n",
       "      <th>contracts_dirs</th>\n",
       "      <th>has_src_files</th>\n",
       "      <th>slither</th>\n",
       "    </tr>\n",
       "  </thead>\n",
       "  <tbody>\n",
       "    <tr>\n",
       "      <th>0</th>\n",
       "      <td>/mnt/data/sourcify_contract_data/full_match/4/...</td>\n",
       "      <td>/home/pippertetsing/sourcify_contract_data/ful...</td>\n",
       "      <td>True</td>\n",
       "      <td>/home/pippertetsing/sourcify_contract_data/ful...</td>\n",
       "      <td>True</td>\n",
       "      <td>None</td>\n",
       "    </tr>\n",
       "    <tr>\n",
       "      <th>1</th>\n",
       "      <td>/mnt/data/sourcify_contract_data/full_match/80...</td>\n",
       "      <td>/home/pippertetsing/sourcify_contract_data/ful...</td>\n",
       "      <td>False</td>\n",
       "      <td>/home/pippertetsing/sourcify_contract_data/ful...</td>\n",
       "      <td>True</td>\n",
       "      <td>None</td>\n",
       "    </tr>\n",
       "    <tr>\n",
       "      <th>2</th>\n",
       "      <td>/mnt/data/sourcify_contract_data/full_match/42...</td>\n",
       "      <td>/home/pippertetsing/sourcify_contract_data/ful...</td>\n",
       "      <td>True</td>\n",
       "      <td>/home/pippertetsing/sourcify_contract_data/ful...</td>\n",
       "      <td>True</td>\n",
       "      <td>[28, 73, 80, 80, 77, 77, 77, 77, 77, 77, 77, 8...</td>\n",
       "    </tr>\n",
       "    <tr>\n",
       "      <th>3</th>\n",
       "      <td>/mnt/data/sourcify_contract_data/full_match/5/...</td>\n",
       "      <td>/home/pippertetsing/sourcify_contract_data/ful...</td>\n",
       "      <td>True</td>\n",
       "      <td>/home/pippertetsing/sourcify_contract_data/ful...</td>\n",
       "      <td>True</td>\n",
       "      <td>[18]</td>\n",
       "    </tr>\n",
       "    <tr>\n",
       "      <th>4</th>\n",
       "      <td>/mnt/data/sourcify_contract_data/partial_match...</td>\n",
       "      <td>/home/pippertetsing/sourcify_contract_data/par...</td>\n",
       "      <td>True</td>\n",
       "      <td>/home/pippertetsing/sourcify_contract_data/par...</td>\n",
       "      <td>True</td>\n",
       "      <td>[84, 84, 84, 84, 84, 84, 84, 80, 80, 80, 80, 8...</td>\n",
       "    </tr>\n",
       "    <tr>\n",
       "      <th>5</th>\n",
       "      <td>/mnt/data/sourcify_contract_data/partial_match...</td>\n",
       "      <td>/home/pippertetsing/sourcify_contract_data/par...</td>\n",
       "      <td>True</td>\n",
       "      <td>/home/pippertetsing/sourcify_contract_data/par...</td>\n",
       "      <td>True</td>\n",
       "      <td>[67, 67, 84, 84, 84, 84, 84, 84, 84, 84, 84, 8...</td>\n",
       "    </tr>\n",
       "    <tr>\n",
       "      <th>6</th>\n",
       "      <td>/mnt/data/sourcify_contract_data/full_match/1/...</td>\n",
       "      <td>/home/pippertetsing/sourcify_contract_data/ful...</td>\n",
       "      <td>True</td>\n",
       "      <td>/home/pippertetsing/sourcify_contract_data/ful...</td>\n",
       "      <td>True</td>\n",
       "      <td>[4]</td>\n",
       "    </tr>\n",
       "    <tr>\n",
       "      <th>7</th>\n",
       "      <td>/mnt/data/sourcify_contract_data/full_match/1/...</td>\n",
       "      <td>/home/pippertetsing/sourcify_contract_data/ful...</td>\n",
       "      <td>True</td>\n",
       "      <td>/home/pippertetsing/sourcify_contract_data/ful...</td>\n",
       "      <td>True</td>\n",
       "      <td>[20, 25, 25, 28, 84, 84, 84, 84, 84, 84, 84, 8...</td>\n",
       "    </tr>\n",
       "    <tr>\n",
       "      <th>8</th>\n",
       "      <td>/mnt/data/sourcify_contract_data/full_match/1/...</td>\n",
       "      <td>/home/pippertetsing/sourcify_contract_data/ful...</td>\n",
       "      <td>True</td>\n",
       "      <td>/home/pippertetsing/sourcify_contract_data/ful...</td>\n",
       "      <td>True</td>\n",
       "      <td>[18, 25, 25]</td>\n",
       "    </tr>\n",
       "    <tr>\n",
       "      <th>9</th>\n",
       "      <td>/mnt/data/sourcify_contract_data/partial_match...</td>\n",
       "      <td>/home/pippertetsing/sourcify_contract_data/par...</td>\n",
       "      <td>True</td>\n",
       "      <td>/home/pippertetsing/sourcify_contract_data/par...</td>\n",
       "      <td>True</td>\n",
       "      <td>[25]</td>\n",
       "    </tr>\n",
       "  </tbody>\n",
       "</table>\n",
       "</div>"
      ],
      "text/plain": [
       "                                          source_dir  \\\n",
       "0  /mnt/data/sourcify_contract_data/full_match/4/...   \n",
       "1  /mnt/data/sourcify_contract_data/full_match/80...   \n",
       "2  /mnt/data/sourcify_contract_data/full_match/42...   \n",
       "3  /mnt/data/sourcify_contract_data/full_match/5/...   \n",
       "4  /mnt/data/sourcify_contract_data/partial_match...   \n",
       "5  /mnt/data/sourcify_contract_data/partial_match...   \n",
       "6  /mnt/data/sourcify_contract_data/full_match/1/...   \n",
       "7  /mnt/data/sourcify_contract_data/full_match/1/...   \n",
       "8  /mnt/data/sourcify_contract_data/full_match/1/...   \n",
       "9  /mnt/data/sourcify_contract_data/partial_match...   \n",
       "\n",
       "                                            sol_file  slither_processed  \\\n",
       "0  /home/pippertetsing/sourcify_contract_data/ful...               True   \n",
       "1  /home/pippertetsing/sourcify_contract_data/ful...              False   \n",
       "2  /home/pippertetsing/sourcify_contract_data/ful...               True   \n",
       "3  /home/pippertetsing/sourcify_contract_data/ful...               True   \n",
       "4  /home/pippertetsing/sourcify_contract_data/par...               True   \n",
       "5  /home/pippertetsing/sourcify_contract_data/par...               True   \n",
       "6  /home/pippertetsing/sourcify_contract_data/ful...               True   \n",
       "7  /home/pippertetsing/sourcify_contract_data/ful...               True   \n",
       "8  /home/pippertetsing/sourcify_contract_data/ful...               True   \n",
       "9  /home/pippertetsing/sourcify_contract_data/par...               True   \n",
       "\n",
       "                                      contracts_dirs  has_src_files  \\\n",
       "0  /home/pippertetsing/sourcify_contract_data/ful...           True   \n",
       "1  /home/pippertetsing/sourcify_contract_data/ful...           True   \n",
       "2  /home/pippertetsing/sourcify_contract_data/ful...           True   \n",
       "3  /home/pippertetsing/sourcify_contract_data/ful...           True   \n",
       "4  /home/pippertetsing/sourcify_contract_data/par...           True   \n",
       "5  /home/pippertetsing/sourcify_contract_data/par...           True   \n",
       "6  /home/pippertetsing/sourcify_contract_data/ful...           True   \n",
       "7  /home/pippertetsing/sourcify_contract_data/ful...           True   \n",
       "8  /home/pippertetsing/sourcify_contract_data/ful...           True   \n",
       "9  /home/pippertetsing/sourcify_contract_data/par...           True   \n",
       "\n",
       "                                             slither  \n",
       "0                                               None  \n",
       "1                                               None  \n",
       "2  [28, 73, 80, 80, 77, 77, 77, 77, 77, 77, 77, 8...  \n",
       "3                                               [18]  \n",
       "4  [84, 84, 84, 84, 84, 84, 84, 80, 80, 80, 80, 8...  \n",
       "5  [67, 67, 84, 84, 84, 84, 84, 84, 84, 84, 84, 8...  \n",
       "6                                                [4]  \n",
       "7  [20, 25, 25, 28, 84, 84, 84, 84, 84, 84, 84, 8...  \n",
       "8                                       [18, 25, 25]  \n",
       "9                                               [25]  "
      ]
     },
     "execution_count": 17,
     "metadata": {},
     "output_type": "execute_result"
    }
   ],
   "source": [
    "slither_dataset[\"source_dir\"]=slither_dataset[\"source_dir\"].apply(lambda x: x.replace(\"/home/pippertetsing/\", \"/mnt/data/\"))\n",
    "slither_dataset"
   ]
  },
  {
   "cell_type": "code",
   "execution_count": null,
   "metadata": {},
   "outputs": [],
   "source": []
  }
 ],
 "metadata": {
  "kernelspec": {
   "display_name": "llm_env",
   "language": "python",
   "name": "python3"
  },
  "language_info": {
   "codemirror_mode": {
    "name": "ipython",
    "version": 3
   },
   "file_extension": ".py",
   "mimetype": "text/x-python",
   "name": "python",
   "nbconvert_exporter": "python",
   "pygments_lexer": "ipython3",
   "version": "3.11.2"
  }
 },
 "nbformat": 4,
 "nbformat_minor": 2
}
